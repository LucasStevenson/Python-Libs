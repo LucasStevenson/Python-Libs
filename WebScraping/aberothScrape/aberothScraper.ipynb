{
 "cells": [
  {
   "cell_type": "code",
   "execution_count": 7,
   "metadata": {},
   "outputs": [],
   "source": [
    "from requests import get\n",
    "from bs4 import BeautifulSoup\n",
    "import csv\n",
    "import os.path\n",
    "from os import path\n",
    "\n",
    "import pandas as pd\n",
    "from functools import reduce"
   ]
  },
  {
   "cell_type": "code",
   "execution_count": 8,
   "metadata": {},
   "outputs": [],
   "source": [
    "def codeLayout(url, csvFileName):\n",
    "    response = get(url)\n",
    "    bs = BeautifulSoup(response.content, 'html.parser')\n",
    "    main = bs.find('center')\n",
    "    champ_table = main.find('table')\n",
    "    rows = champ_table.find_all('tr')\n",
    "    \n",
    "    # i dont want duplicate information\n",
    "    if path.exists(csvFileName + \".csv\"):\n",
    "        os.remove(csvFileName + \".csv\")\n",
    "    \n",
    "    for row in rows:\n",
    "        col = row.find_all('td')[1].text\n",
    "        col2 = row.find_all('td')[2].text\n",
    "        #print([col, col2])\n",
    "        with open(csvFileName + \".csv\", 'a') as csv_file:\n",
    "            writer = csv.writer(csv_file)\n",
    "            writer.writerow([col.strip(), col2.strip()])"
   ]
  },
  {
   "cell_type": "code",
   "execution_count": 9,
   "metadata": {},
   "outputs": [],
   "source": [
    "def runAll():\n",
    "    codeLayout(\n",
    "        \"https://aberoth.com/highscore/Wealthiest.html\", \"wealthiest\")\n",
    "    codeLayout(\n",
    "        \"https://aberoth.com/highscore/Most_Skillful.html\", \"skill\")\n",
    "    codeLayout(\n",
    "        \"https://aberoth.com/highscore/Most_Valiant.html\", \"valiant\")"
   ]
  },
  {
   "cell_type": "code",
   "execution_count": 10,
   "metadata": {},
   "outputs": [],
   "source": [
    "runAll()"
   ]
  },
  {
   "cell_type": "code",
   "execution_count": 6,
   "metadata": {},
   "outputs": [
    {
     "name": "stdout",
     "output_type": "stream",
     "text": [
      "            Name  Skill Total    Gold  Enemies Vanquished\n",
      "0         Kaaras          337  909044              304559\n",
      "1         Scamaz          337    2827              398933\n",
      "2        Cookiez          318    5207              197295\n",
      "3           Deer          317   55034              177243\n",
      "4         Arcand          315   31314              195100\n",
      "...          ...          ...     ...                 ...\n",
      "5857  Taleteller           15    1313                1127\n",
      "5858    Perilous           15     929                1122\n",
      "5859      Lopess           15     776                1193\n",
      "5860       Remon           15    1877                1710\n",
      "5861    Dullahak           15    2253                1247\n",
      "\n",
      "[5862 rows x 4 columns]\n"
     ]
    }
   ],
   "source": [
    "df1 = pd.read_csv(\"skill.csv\")\n",
    "df2 = pd.read_csv(\"wealthiest.csv\")\n",
    "df3 = pd.read_csv(\"valiant.csv\")\n",
    "dfs = [df1, df2, df3]\n",
    "df = reduce(lambda left, right: pd.merge(left, right), dfs)\n",
    "print(df)"
   ]
  },
  {
   "cell_type": "code",
   "execution_count": null,
   "metadata": {},
   "outputs": [],
   "source": []
  }
 ],
 "metadata": {
  "kernelspec": {
   "display_name": "Python 3",
   "language": "python",
   "name": "python3"
  },
  "language_info": {
   "codemirror_mode": {
    "name": "ipython",
    "version": 3
   },
   "file_extension": ".py",
   "mimetype": "text/x-python",
   "name": "python",
   "nbconvert_exporter": "python",
   "pygments_lexer": "ipython3",
   "version": "3.6.7"
  }
 },
 "nbformat": 4,
 "nbformat_minor": 2
}
